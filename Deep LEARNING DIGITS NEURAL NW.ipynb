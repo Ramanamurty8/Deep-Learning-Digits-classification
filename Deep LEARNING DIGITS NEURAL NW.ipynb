{
 "cells": [
  {
   "cell_type": "code",
   "execution_count": 3,
   "id": "d3505887",
   "metadata": {},
   "outputs": [
    {
     "name": "stdout",
     "output_type": "stream",
     "text": [
      "Collecting tensorflow\n",
      "  Downloading tensorflow-2.17.0-cp311-cp311-win_amd64.whl.metadata (3.2 kB)\n",
      "Collecting tensorflow-intel==2.17.0 (from tensorflow)\n",
      "  Downloading tensorflow_intel-2.17.0-cp311-cp311-win_amd64.whl.metadata (5.0 kB)\n",
      "Collecting absl-py>=1.0.0 (from tensorflow-intel==2.17.0->tensorflow)\n",
      "  Downloading absl_py-2.1.0-py3-none-any.whl.metadata (2.3 kB)\n",
      "Collecting astunparse>=1.6.0 (from tensorflow-intel==2.17.0->tensorflow)\n",
      "  Downloading astunparse-1.6.3-py2.py3-none-any.whl.metadata (4.4 kB)\n",
      "Collecting flatbuffers>=24.3.25 (from tensorflow-intel==2.17.0->tensorflow)\n",
      "  Downloading flatbuffers-24.3.25-py2.py3-none-any.whl.metadata (850 bytes)\n",
      "Collecting gast!=0.5.0,!=0.5.1,!=0.5.2,>=0.2.1 (from tensorflow-intel==2.17.0->tensorflow)\n",
      "  Downloading gast-0.6.0-py3-none-any.whl.metadata (1.3 kB)\n",
      "Collecting google-pasta>=0.1.1 (from tensorflow-intel==2.17.0->tensorflow)\n",
      "  Downloading google_pasta-0.2.0-py3-none-any.whl.metadata (814 bytes)\n",
      "Collecting h5py>=3.10.0 (from tensorflow-intel==2.17.0->tensorflow)\n",
      "  Downloading h5py-3.11.0-cp311-cp311-win_amd64.whl.metadata (2.5 kB)\n",
      "Collecting libclang>=13.0.0 (from tensorflow-intel==2.17.0->tensorflow)\n",
      "  Downloading libclang-18.1.1-py2.py3-none-win_amd64.whl.metadata (5.3 kB)\n",
      "Collecting ml-dtypes<0.5.0,>=0.3.1 (from tensorflow-intel==2.17.0->tensorflow)\n",
      "  Downloading ml_dtypes-0.4.0-cp311-cp311-win_amd64.whl.metadata (20 kB)\n",
      "Collecting opt-einsum>=2.3.2 (from tensorflow-intel==2.17.0->tensorflow)\n",
      "  Downloading opt_einsum-3.3.0-py3-none-any.whl.metadata (6.5 kB)\n",
      "Requirement already satisfied: packaging in c:\\users\\sri\\anaconda3\\lib\\site-packages (from tensorflow-intel==2.17.0->tensorflow) (23.1)\n",
      "Requirement already satisfied: protobuf!=4.21.0,!=4.21.1,!=4.21.2,!=4.21.3,!=4.21.4,!=4.21.5,<5.0.0dev,>=3.20.3 in c:\\users\\sri\\anaconda3\\lib\\site-packages (from tensorflow-intel==2.17.0->tensorflow) (3.20.3)\n",
      "Requirement already satisfied: requests<3,>=2.21.0 in c:\\users\\sri\\anaconda3\\lib\\site-packages (from tensorflow-intel==2.17.0->tensorflow) (2.31.0)\n",
      "Requirement already satisfied: setuptools in c:\\users\\sri\\anaconda3\\lib\\site-packages (from tensorflow-intel==2.17.0->tensorflow) (68.2.2)\n",
      "Requirement already satisfied: six>=1.12.0 in c:\\users\\sri\\anaconda3\\lib\\site-packages (from tensorflow-intel==2.17.0->tensorflow) (1.16.0)\n",
      "Collecting termcolor>=1.1.0 (from tensorflow-intel==2.17.0->tensorflow)\n",
      "  Downloading termcolor-2.4.0-py3-none-any.whl.metadata (6.1 kB)\n",
      "Requirement already satisfied: typing-extensions>=3.6.6 in c:\\users\\sri\\anaconda3\\lib\\site-packages (from tensorflow-intel==2.17.0->tensorflow) (4.9.0)\n",
      "Requirement already satisfied: wrapt>=1.11.0 in c:\\users\\sri\\anaconda3\\lib\\site-packages (from tensorflow-intel==2.17.0->tensorflow) (1.14.1)\n",
      "Collecting grpcio<2.0,>=1.24.3 (from tensorflow-intel==2.17.0->tensorflow)\n",
      "  Downloading grpcio-1.65.4-cp311-cp311-win_amd64.whl.metadata (3.4 kB)\n",
      "Collecting tensorboard<2.18,>=2.17 (from tensorflow-intel==2.17.0->tensorflow)\n",
      "  Downloading tensorboard-2.17.1-py3-none-any.whl.metadata (1.6 kB)\n",
      "Collecting keras>=3.2.0 (from tensorflow-intel==2.17.0->tensorflow)\n",
      "  Downloading keras-3.5.0-py3-none-any.whl.metadata (5.8 kB)\n",
      "Collecting tensorflow-io-gcs-filesystem>=0.23.1 (from tensorflow-intel==2.17.0->tensorflow)\n",
      "  Downloading tensorflow_io_gcs_filesystem-0.31.0-cp311-cp311-win_amd64.whl.metadata (14 kB)\n",
      "Requirement already satisfied: numpy<2.0.0,>=1.23.5 in c:\\users\\sri\\anaconda3\\lib\\site-packages (from tensorflow-intel==2.17.0->tensorflow) (1.24.4)\n",
      "Requirement already satisfied: wheel<1.0,>=0.23.0 in c:\\users\\sri\\anaconda3\\lib\\site-packages (from astunparse>=1.6.0->tensorflow-intel==2.17.0->tensorflow) (0.41.2)\n",
      "Requirement already satisfied: rich in c:\\users\\sri\\anaconda3\\lib\\site-packages (from keras>=3.2.0->tensorflow-intel==2.17.0->tensorflow) (13.3.5)\n",
      "Collecting namex (from keras>=3.2.0->tensorflow-intel==2.17.0->tensorflow)\n",
      "  Downloading namex-0.0.8-py3-none-any.whl.metadata (246 bytes)\n",
      "Collecting optree (from keras>=3.2.0->tensorflow-intel==2.17.0->tensorflow)\n",
      "  Downloading optree-0.12.1-cp311-cp311-win_amd64.whl.metadata (48 kB)\n",
      "     ---------------------------------------- 0.0/48.7 kB ? eta -:--:--\n",
      "     ---------------------------------------- 48.7/48.7 kB 1.2 MB/s eta 0:00:00\n",
      "Requirement already satisfied: charset-normalizer<4,>=2 in c:\\users\\sri\\anaconda3\\lib\\site-packages (from requests<3,>=2.21.0->tensorflow-intel==2.17.0->tensorflow) (2.0.4)\n",
      "Requirement already satisfied: idna<4,>=2.5 in c:\\users\\sri\\anaconda3\\lib\\site-packages (from requests<3,>=2.21.0->tensorflow-intel==2.17.0->tensorflow) (3.4)\n",
      "Requirement already satisfied: urllib3<3,>=1.21.1 in c:\\users\\sri\\anaconda3\\lib\\site-packages (from requests<3,>=2.21.0->tensorflow-intel==2.17.0->tensorflow) (2.0.7)\n",
      "Requirement already satisfied: certifi>=2017.4.17 in c:\\users\\sri\\anaconda3\\lib\\site-packages (from requests<3,>=2.21.0->tensorflow-intel==2.17.0->tensorflow) (2024.2.2)\n",
      "Requirement already satisfied: markdown>=2.6.8 in c:\\users\\sri\\anaconda3\\lib\\site-packages (from tensorboard<2.18,>=2.17->tensorflow-intel==2.17.0->tensorflow) (3.4.1)\n",
      "Collecting tensorboard-data-server<0.8.0,>=0.7.0 (from tensorboard<2.18,>=2.17->tensorflow-intel==2.17.0->tensorflow)\n",
      "  Downloading tensorboard_data_server-0.7.2-py3-none-any.whl.metadata (1.1 kB)\n",
      "Requirement already satisfied: werkzeug>=1.0.1 in c:\\users\\sri\\anaconda3\\lib\\site-packages (from tensorboard<2.18,>=2.17->tensorflow-intel==2.17.0->tensorflow) (2.2.3)\n",
      "Requirement already satisfied: MarkupSafe>=2.1.1 in c:\\users\\sri\\anaconda3\\lib\\site-packages (from werkzeug>=1.0.1->tensorboard<2.18,>=2.17->tensorflow-intel==2.17.0->tensorflow) (2.1.3)\n",
      "Requirement already satisfied: markdown-it-py<3.0.0,>=2.2.0 in c:\\users\\sri\\anaconda3\\lib\\site-packages (from rich->keras>=3.2.0->tensorflow-intel==2.17.0->tensorflow) (2.2.0)\n",
      "Requirement already satisfied: pygments<3.0.0,>=2.13.0 in c:\\users\\sri\\anaconda3\\lib\\site-packages (from rich->keras>=3.2.0->tensorflow-intel==2.17.0->tensorflow) (2.15.1)\n",
      "Requirement already satisfied: mdurl~=0.1 in c:\\users\\sri\\anaconda3\\lib\\site-packages (from markdown-it-py<3.0.0,>=2.2.0->rich->keras>=3.2.0->tensorflow-intel==2.17.0->tensorflow) (0.1.0)\n",
      "Downloading tensorflow-2.17.0-cp311-cp311-win_amd64.whl (2.0 kB)\n",
      "Downloading tensorflow_intel-2.17.0-cp311-cp311-win_amd64.whl (385.0 MB)\n",
      "   ---------------------------------------- 0.0/385.0 MB ? eta -:--:--\n",
      "   ---------------------------------------- 0.2/385.0 MB 7.0 MB/s eta 0:00:55\n",
      "   ---------------------------------------- 0.5/385.0 MB 6.6 MB/s eta 0:00:59\n",
      "   ---------------------------------------- 0.9/385.0 MB 7.3 MB/s eta 0:00:53\n",
      "   ---------------------------------------- 1.3/385.0 MB 7.5 MB/s eta 0:00:52\n",
      "   ---------------------------------------- 1.7/385.0 MB 7.7 MB/s eta 0:00:50\n",
      "   ---------------------------------------- 2.1/385.0 MB 7.9 MB/s eta 0:00:49\n",
      "   ---------------------------------------- 2.6/385.0 MB 8.3 MB/s eta 0:00:47\n",
      "   ---------------------------------------- 3.2/385.0 MB 8.8 MB/s eta 0:00:44\n",
      "   ---------------------------------------- 3.8/385.0 MB 9.3 MB/s eta 0:00:41\n",
      "   ---------------------------------------- 4.4/385.0 MB 9.7 MB/s eta 0:00:40\n",
      "    --------------------------------------- 5.1/385.0 MB 10.3 MB/s eta 0:00:38\n",
      "    --------------------------------------- 5.8/385.0 MB 10.5 MB/s eta 0:00:36\n",
      "    --------------------------------------- 6.9/385.0 MB 11.6 MB/s eta 0:00:33\n",
      "    --------------------------------------- 7.7/385.0 MB 12.0 MB/s eta 0:00:32\n",
      "    --------------------------------------- 8.8/385.0 MB 12.7 MB/s eta 0:00:30\n",
      "   - -------------------------------------- 9.7/385.0 MB 13.2 MB/s eta 0:00:29\n",
      "   - -------------------------------------- 10.8/385.0 MB 14.9 MB/s eta 0:00:26\n",
      "   - -------------------------------------- 11.9/385.0 MB 17.2 MB/s eta 0:00:22\n",
      "   - -------------------------------------- 13.3/385.0 MB 19.3 MB/s eta 0:00:20\n",
      "   - -------------------------------------- 14.6/385.0 MB 21.9 MB/s eta 0:00:17\n",
      "   - -------------------------------------- 15.9/385.0 MB 23.4 MB/s eta 0:00:16\n",
      "   - -------------------------------------- 17.5/385.0 MB 26.2 MB/s eta 0:00:15\n",
      "   - -------------------------------------- 19.1/385.0 MB 29.8 MB/s eta 0:00:13\n",
      "   -- ------------------------------------- 19.9/385.0 MB 28.4 MB/s eta 0:00:13\n",
      "   -- ------------------------------------- 21.8/385.0 MB 29.7 MB/s eta 0:00:13\n",
      "   -- ------------------------------------- 23.2/385.0 MB 31.1 MB/s eta 0:00:12\n",
      "   -- ------------------------------------- 24.9/385.0 MB 34.4 MB/s eta 0:00:11\n",
      "   -- ------------------------------------- 26.7/385.0 MB 36.3 MB/s eta 0:00:10\n",
      "   -- ------------------------------------- 28.7/385.0 MB 36.3 MB/s eta 0:00:10\n",
      "   --- ------------------------------------ 30.5/385.0 MB 38.6 MB/s eta 0:00:10\n",
      "   --- ------------------------------------ 32.3/385.0 MB 40.9 MB/s eta 0:00:09\n",
      "   --- ------------------------------------ 34.0/385.0 MB 40.9 MB/s eta 0:00:09\n",
      "   --- ------------------------------------ 35.5/385.0 MB 38.5 MB/s eta 0:00:10\n",
      "   --- ------------------------------------ 37.1/385.0 MB 38.5 MB/s eta 0:00:10\n",
      "   ---- ----------------------------------- 38.7/385.0 MB 36.4 MB/s eta 0:00:10\n",
      "   ---- ----------------------------------- 40.5/385.0 MB 36.3 MB/s eta 0:00:10\n",
      "   ---- ----------------------------------- 42.2/385.0 MB 36.3 MB/s eta 0:00:10\n",
      "   ---- ----------------------------------- 43.9/385.0 MB 36.4 MB/s eta 0:00:10\n",
      "   ---- ----------------------------------- 45.6/385.0 MB 36.4 MB/s eta 0:00:10\n",
      "   ---- ----------------------------------- 47.5/385.0 MB 36.4 MB/s eta 0:00:10\n",
      "   ----- ---------------------------------- 49.5/385.0 MB 38.5 MB/s eta 0:00:09\n",
      "   ----- ---------------------------------- 50.8/385.0 MB 36.4 MB/s eta 0:00:10\n",
      "   ----- ---------------------------------- 53.8/385.0 MB 40.9 MB/s eta 0:00:09\n",
      "   ----- ---------------------------------- 55.5/385.0 MB 40.9 MB/s eta 0:00:09\n",
      "   ----- ---------------------------------- 57.2/385.0 MB 43.7 MB/s eta 0:00:08\n",
      "   ------ --------------------------------- 59.0/385.0 MB 43.5 MB/s eta 0:00:08\n",
      "   ------ --------------------------------- 61.1/385.0 MB 46.7 MB/s eta 0:00:07\n",
      "   ------ --------------------------------- 62.9/385.0 MB 43.5 MB/s eta 0:00:08\n",
      "   ------ --------------------------------- 65.1/385.0 MB 40.9 MB/s eta 0:00:08\n",
      "   ------ --------------------------------- 66.7/385.0 MB 40.9 MB/s eta 0:00:08\n",
      "   ------- -------------------------------- 68.5/385.0 MB 43.7 MB/s eta 0:00:08\n",
      "   ------- -------------------------------- 70.5/385.0 MB 40.9 MB/s eta 0:00:08\n",
      "   ------- -------------------------------- 72.4/385.0 MB 40.9 MB/s eta 0:00:08\n",
      "   ------- -------------------------------- 74.6/385.0 MB 40.9 MB/s eta 0:00:08\n",
      "   ------- -------------------------------- 76.1/385.0 MB 40.9 MB/s eta 0:00:08\n",
      "   -------- ------------------------------- 78.9/385.0 MB 46.7 MB/s eta 0:00:07\n",
      "   -------- ------------------------------- 80.6/385.0 MB 43.7 MB/s eta 0:00:07\n",
      "   -------- ------------------------------- 82.5/385.0 MB 43.7 MB/s eta 0:00:07\n",
      "   -------- ------------------------------- 84.5/385.0 MB 43.7 MB/s eta 0:00:07\n",
      "   --------- ------------------------------ 86.8/385.0 MB 46.7 MB/s eta 0:00:07\n",
      "   --------- ------------------------------ 89.5/385.0 MB 46.7 MB/s eta 0:00:07\n",
      "   --------- ------------------------------ 91.4/385.0 MB 46.7 MB/s eta 0:00:07\n",
      "   --------- ------------------------------ 91.9/385.0 MB 40.9 MB/s eta 0:00:08\n",
      "   --------- ------------------------------ 93.2/385.0 MB 43.7 MB/s eta 0:00:07\n",
      "   --------- ------------------------------ 93.8/385.0 MB 34.6 MB/s eta 0:00:09\n",
      "   ---------- ----------------------------- 97.4/385.0 MB 40.9 MB/s eta 0:00:08\n",
      "   ---------- ----------------------------- 97.8/385.0 MB 32.8 MB/s eta 0:00:09\n",
      "   ---------- ----------------------------- 99.3/385.0 MB 29.7 MB/s eta 0:00:10\n",
      "   ---------- ---------------------------- 101.6/385.0 MB 29.7 MB/s eta 0:00:10\n",
      "   ---------- ---------------------------- 103.5/385.0 MB 38.6 MB/s eta 0:00:08\n",
      "   ---------- ---------------------------- 105.7/385.0 MB 34.4 MB/s eta 0:00:09\n",
      "   ---------- ---------------------------- 107.6/385.0 MB 31.2 MB/s eta 0:00:09\n",
      "   ----------- --------------------------- 109.9/385.0 MB 43.5 MB/s eta 0:00:07\n",
      "   ----------- --------------------------- 112.3/385.0 MB 43.5 MB/s eta 0:00:07\n",
      "   ----------- --------------------------- 114.4/385.0 MB 46.9 MB/s eta 0:00:06\n",
      "   ----------- --------------------------- 117.0/385.0 MB 50.4 MB/s eta 0:00:06\n",
      "   ------------ -------------------------- 118.7/385.0 MB 46.7 MB/s eta 0:00:06\n",
      "   ------------ -------------------------- 121.3/385.0 MB 50.4 MB/s eta 0:00:06\n",
      "   ------------ -------------------------- 123.3/385.0 MB 46.7 MB/s eta 0:00:06\n",
      "   ------------ -------------------------- 125.1/385.0 MB 46.7 MB/s eta 0:00:06\n",
      "   ------------ -------------------------- 127.3/385.0 MB 46.7 MB/s eta 0:00:06\n",
      "   ------------- ------------------------- 129.8/385.0 MB 43.7 MB/s eta 0:00:06\n",
      "   ------------- ------------------------- 132.5/385.0 MB 46.7 MB/s eta 0:00:06\n",
      "   ------------- ------------------------- 134.4/385.0 MB 46.7 MB/s eta 0:00:06\n",
      "   ------------- ------------------------- 136.5/385.0 MB 46.7 MB/s eta 0:00:06\n",
      "   -------------- ------------------------ 138.5/385.0 MB 46.7 MB/s eta 0:00:06\n",
      "   -------------- ------------------------ 140.4/385.0 MB 46.7 MB/s eta 0:00:06\n",
      "   -------------- ------------------------ 142.1/385.0 MB 43.7 MB/s eta 0:00:06\n",
      "   -------------- ------------------------ 144.5/385.0 MB 43.7 MB/s eta 0:00:06\n",
      "   -------------- ------------------------ 146.6/385.0 MB 46.7 MB/s eta 0:00:06\n",
      "   --------------- ----------------------- 148.3/385.0 MB 43.7 MB/s eta 0:00:06\n",
      "   --------------- ----------------------- 150.8/385.0 MB 46.9 MB/s eta 0:00:05\n",
      "   --------------- ----------------------- 152.6/385.0 MB 46.7 MB/s eta 0:00:05\n",
      "   --------------- ----------------------- 154.5/385.0 MB 43.7 MB/s eta 0:00:06\n",
      "   --------------- ----------------------- 156.7/385.0 MB 43.7 MB/s eta 0:00:06\n",
      "   ---------------- ---------------------- 158.7/385.0 MB 46.7 MB/s eta 0:00:05\n",
      "   ---------------- ---------------------- 160.6/385.0 MB 40.9 MB/s eta 0:00:06\n",
      "   ---------------- ---------------------- 163.3/385.0 MB 40.9 MB/s eta 0:00:06\n",
      "   ---------------- ---------------------- 165.2/385.0 MB 38.5 MB/s eta 0:00:06\n",
      "   ---------------- ---------------------- 167.3/385.0 MB 38.5 MB/s eta 0:00:06\n",
      "   ----------------- --------------------- 169.2/385.0 MB 38.6 MB/s eta 0:00:06\n",
      "   ----------------- --------------------- 171.0/385.0 MB 43.5 MB/s eta 0:00:05\n",
      "   ----------------- --------------------- 173.1/385.0 MB 43.5 MB/s eta 0:00:05\n",
      "   ----------------- --------------------- 175.3/385.0 MB 40.9 MB/s eta 0:00:06\n",
      "   ------------------ -------------------- 177.8/385.0 MB 43.7 MB/s eta 0:00:05\n",
      "   ------------------ -------------------- 182.6/385.0 MB 43.7 MB/s eta 0:00:05\n",
      "   ------------------ -------------------- 184.7/385.0 MB 43.7 MB/s eta 0:00:05\n",
      "   ------------------ -------------------- 187.3/385.0 MB 46.7 MB/s eta 0:00:05\n",
      "   ------------------- ------------------- 190.6/385.0 MB 46.7 MB/s eta 0:00:05\n",
      "   ------------------- ------------------- 193.0/385.0 MB 46.7 MB/s eta 0:00:05\n",
      "   ------------------- ------------------- 195.0/385.0 MB 46.7 MB/s eta 0:00:05\n",
      "   ------------------- ------------------- 197.1/385.0 MB 46.7 MB/s eta 0:00:05\n",
      "   -------------------- ------------------ 199.3/385.0 MB 46.7 MB/s eta 0:00:04\n",
      "   -------------------- ------------------ 201.6/385.0 MB 43.7 MB/s eta 0:00:05\n",
      "   -------------------- ------------------ 204.0/385.0 MB 46.7 MB/s eta 0:00:04\n",
      "   -------------------- ------------------ 206.2/385.0 MB 46.7 MB/s eta 0:00:04\n",
      "   --------------------- ----------------- 208.3/385.0 MB 46.7 MB/s eta 0:00:04\n",
      "   --------------------- ----------------- 210.5/385.0 MB 46.7 MB/s eta 0:00:04\n",
      "   --------------------- ----------------- 212.1/385.0 MB 43.5 MB/s eta 0:00:04\n",
      "   --------------------- ----------------- 214.5/385.0 MB 43.7 MB/s eta 0:00:04\n",
      "   ---------------------- ---------------- 217.4/385.0 MB 43.7 MB/s eta 0:00:04\n",
      "   ---------------------- ---------------- 219.6/385.0 MB 43.5 MB/s eta 0:00:04\n",
      "   ---------------------- ---------------- 221.7/385.0 MB 46.7 MB/s eta 0:00:04\n",
      "   ---------------------- ---------------- 223.7/385.0 MB 46.7 MB/s eta 0:00:04\n",
      "   ---------------------- ---------------- 225.7/385.0 MB 43.7 MB/s eta 0:00:04\n",
      "   ----------------------- --------------- 227.8/385.0 MB 46.9 MB/s eta 0:00:04\n",
      "   ----------------------- --------------- 230.0/385.0 MB 46.7 MB/s eta 0:00:04\n",
      "   ----------------------- --------------- 231.5/385.0 MB 43.7 MB/s eta 0:00:04\n",
      "   ----------------------- --------------- 234.3/385.0 MB 43.7 MB/s eta 0:00:04\n",
      "   ----------------------- --------------- 236.4/385.0 MB 43.5 MB/s eta 0:00:04\n",
      "   ------------------------ -------------- 238.9/385.0 MB 46.7 MB/s eta 0:00:04\n",
      "   ------------------------ -------------- 240.8/385.0 MB 46.7 MB/s eta 0:00:04\n",
      "   ------------------------ -------------- 242.5/385.0 MB 46.7 MB/s eta 0:00:04\n",
      "   ------------------------ -------------- 244.8/385.0 MB 46.7 MB/s eta 0:00:04\n",
      "   ------------------------- ------------- 246.9/385.0 MB 46.7 MB/s eta 0:00:03\n",
      "   ------------------------- ------------- 249.2/385.0 MB 46.9 MB/s eta 0:00:03\n",
      "   ------------------------- ------------- 251.3/385.0 MB 46.9 MB/s eta 0:00:03\n",
      "   ------------------------- ------------- 254.8/385.0 MB 43.7 MB/s eta 0:00:03\n",
      "   -------------------------- ------------ 257.0/385.0 MB 46.9 MB/s eta 0:00:03\n",
      "   -------------------------- ------------ 258.8/385.0 MB 43.7 MB/s eta 0:00:03\n",
      "   -------------------------- ------------ 260.9/385.0 MB 43.7 MB/s eta 0:00:03\n",
      "   -------------------------- ------------ 262.8/385.0 MB 43.7 MB/s eta 0:00:03\n",
      "   -------------------------- ------------ 264.8/385.0 MB 43.5 MB/s eta 0:00:03\n",
      "   -------------------------- ------------ 266.4/385.0 MB 40.9 MB/s eta 0:00:03\n",
      "   --------------------------- ----------- 268.6/385.0 MB 43.5 MB/s eta 0:00:03\n",
      "   --------------------------- ----------- 270.9/385.0 MB 43.7 MB/s eta 0:00:03\n",
      "   --------------------------- ----------- 273.2/385.0 MB 43.7 MB/s eta 0:00:03\n",
      "   --------------------------- ----------- 275.3/385.0 MB 43.7 MB/s eta 0:00:03\n",
      "   ---------------------------- ---------- 277.4/385.0 MB 46.7 MB/s eta 0:00:03\n",
      "   ---------------------------- ---------- 279.7/385.0 MB 46.7 MB/s eta 0:00:03\n",
      "   ---------------------------- ---------- 281.4/385.0 MB 43.5 MB/s eta 0:00:03\n",
      "   ---------------------------- ---------- 283.3/385.0 MB 46.7 MB/s eta 0:00:03\n",
      "   ---------------------------- ---------- 285.7/385.0 MB 43.5 MB/s eta 0:00:03\n",
      "   ----------------------------- --------- 287.8/385.0 MB 43.7 MB/s eta 0:00:03\n",
      "   ----------------------------- --------- 289.9/385.0 MB 43.7 MB/s eta 0:00:03\n",
      "   ----------------------------- --------- 290.6/385.0 MB 43.7 MB/s eta 0:00:03\n",
      "   ----------------------------- --------- 290.6/385.0 MB 43.7 MB/s eta 0:00:03\n",
      "   ----------------------------- --------- 290.6/385.0 MB 43.7 MB/s eta 0:00:03\n",
      "   ----------------------------- --------- 290.6/385.0 MB 43.7 MB/s eta 0:00:03\n",
      "   ----------------------------- --------- 290.9/385.0 MB 25.2 MB/s eta 0:00:04\n",
      "   ----------------------------- --------- 291.1/385.0 MB 24.2 MB/s eta 0:00:04\n",
      "   ----------------------------- --------- 291.1/385.0 MB 24.2 MB/s eta 0:00:04\n",
      "   ----------------------------- --------- 291.1/385.0 MB 24.2 MB/s eta 0:00:04\n",
      "   ----------------------------- --------- 291.1/385.0 MB 24.2 MB/s eta 0:00:04\n",
      "   ----------------------------- --------- 292.2/385.0 MB 16.8 MB/s eta 0:00:06\n",
      "   ----------------------------- --------- 295.4/385.0 MB 17.2 MB/s eta 0:00:06\n",
      "   ------------------------------ -------- 297.9/385.0 MB 17.7 MB/s eta 0:00:05\n",
      "   ------------------------------ -------- 301.7/385.0 MB 65.6 MB/s eta 0:00:02\n",
      "   ------------------------------ -------- 304.4/385.0 MB 59.5 MB/s eta 0:00:02\n",
      "   ------------------------------- ------- 307.0/385.0 MB 65.6 MB/s eta 0:00:02\n",
      "   ------------------------------- ------- 309.1/385.0 MB 59.5 MB/s eta 0:00:02\n",
      "   ------------------------------- ------- 311.2/385.0 MB 50.4 MB/s eta 0:00:02\n",
      "   ------------------------------- ------- 313.2/385.0 MB 46.7 MB/s eta 0:00:02\n",
      "   ------------------------------- ------- 315.1/385.0 MB 46.7 MB/s eta 0:00:02\n",
      "   -------------------------------- ------ 317.4/385.0 MB 43.5 MB/s eta 0:00:02\n",
      "   -------------------------------- ------ 319.5/385.0 MB 43.7 MB/s eta 0:00:02\n",
      "   -------------------------------- ------ 321.7/385.0 MB 46.9 MB/s eta 0:00:02\n",
      "   -------------------------------- ------ 323.9/385.0 MB 46.7 MB/s eta 0:00:02\n",
      "   --------------------------------- ----- 326.1/385.0 MB 46.7 MB/s eta 0:00:02\n",
      "   --------------------------------- ----- 328.0/385.0 MB 46.7 MB/s eta 0:00:02\n",
      "   --------------------------------- ----- 330.2/385.0 MB 46.7 MB/s eta 0:00:02\n",
      "   --------------------------------- ----- 332.3/385.0 MB 46.7 MB/s eta 0:00:02\n",
      "   --------------------------------- ----- 334.5/385.0 MB 46.7 MB/s eta 0:00:02\n",
      "   ---------------------------------- ---- 336.6/385.0 MB 43.7 MB/s eta 0:00:02\n",
      "   ---------------------------------- ---- 338.6/385.0 MB 46.9 MB/s eta 0:00:01\n",
      "   ---------------------------------- ---- 340.6/385.0 MB 43.7 MB/s eta 0:00:02\n",
      "   ---------------------------------- ---- 342.7/385.0 MB 43.7 MB/s eta 0:00:01\n",
      "   ---------------------------------- ---- 345.0/385.0 MB 46.7 MB/s eta 0:00:01\n",
      "   ----------------------------------- --- 347.1/385.0 MB 43.5 MB/s eta 0:00:01\n",
      "   ----------------------------------- --- 348.9/385.0 MB 43.5 MB/s eta 0:00:01\n",
      "   ----------------------------------- --- 350.9/385.0 MB 43.5 MB/s eta 0:00:01\n",
      "   ----------------------------------- --- 352.6/385.0 MB 40.9 MB/s eta 0:00:01\n",
      "   ----------------------------------- --- 355.0/385.0 MB 43.7 MB/s eta 0:00:01\n",
      "   ------------------------------------ -- 356.9/385.0 MB 40.9 MB/s eta 0:00:01\n",
      "   ------------------------------------ -- 358.8/385.0 MB 40.9 MB/s eta 0:00:01\n",
      "   ------------------------------------ -- 361.0/385.0 MB 40.9 MB/s eta 0:00:01\n",
      "   ------------------------------------ -- 363.7/385.0 MB 40.9 MB/s eta 0:00:01\n",
      "   ------------------------------------- - 366.9/385.0 MB 43.5 MB/s eta 0:00:01\n",
      "   ------------------------------------- - 369.3/385.0 MB 46.9 MB/s eta 0:00:01\n",
      "   ------------------------------------- - 371.7/385.0 MB 50.4 MB/s eta 0:00:01\n",
      "   ------------------------------------- - 373.8/385.0 MB 54.4 MB/s eta 0:00:01\n",
      "   --------------------------------------  375.8/385.0 MB 50.4 MB/s eta 0:00:01\n",
      "   --------------------------------------  377.9/385.0 MB 50.4 MB/s eta 0:00:01\n",
      "   --------------------------------------  379.8/385.0 MB 46.7 MB/s eta 0:00:01\n",
      "   --------------------------------------  382.2/385.0 MB 43.5 MB/s eta 0:00:01\n",
      "   --------------------------------------  384.1/385.0 MB 46.7 MB/s eta 0:00:01\n",
      "   --------------------------------------  385.0/385.0 MB 43.7 MB/s eta 0:00:01\n",
      "   --------------------------------------  385.0/385.0 MB 43.7 MB/s eta 0:00:01\n",
      "   --------------------------------------  385.0/385.0 MB 43.7 MB/s eta 0:00:01\n",
      "   --------------------------------------  385.0/385.0 MB 43.7 MB/s eta 0:00:01\n",
      "   --------------------------------------  385.0/385.0 MB 43.7 MB/s eta 0:00:01\n",
      "   --------------------------------------  385.0/385.0 MB 43.7 MB/s eta 0:00:01\n",
      "   --------------------------------------  385.0/385.0 MB 43.7 MB/s eta 0:00:01\n",
      "   --------------------------------------  385.0/385.0 MB 43.7 MB/s eta 0:00:01\n",
      "   --------------------------------------  385.0/385.0 MB 43.7 MB/s eta 0:00:01\n",
      "   --------------------------------------  385.0/385.0 MB 43.7 MB/s eta 0:00:01\n",
      "   --------------------------------------  385.0/385.0 MB 43.7 MB/s eta 0:00:01\n",
      "   --------------------------------------  385.0/385.0 MB 43.7 MB/s eta 0:00:01\n",
      "   --------------------------------------  385.0/385.0 MB 43.7 MB/s eta 0:00:01\n",
      "   --------------------------------------  385.0/385.0 MB 43.7 MB/s eta 0:00:01\n",
      "   --------------------------------------  385.0/385.0 MB 43.7 MB/s eta 0:00:01\n",
      "   --------------------------------------  385.0/385.0 MB 43.7 MB/s eta 0:00:01\n",
      "   --------------------------------------  385.0/385.0 MB 43.7 MB/s eta 0:00:01\n",
      "   --------------------------------------  385.0/385.0 MB 43.7 MB/s eta 0:00:01\n",
      "   --------------------------------------  385.0/385.0 MB 43.7 MB/s eta 0:00:01\n",
      "   --------------------------------------  385.0/385.0 MB 43.7 MB/s eta 0:00:01\n",
      "   --------------------------------------  385.0/385.0 MB 43.7 MB/s eta 0:00:01\n",
      "   --------------------------------------  385.0/385.0 MB 43.7 MB/s eta 0:00:01\n",
      "   --------------------------------------  385.0/385.0 MB 43.7 MB/s eta 0:00:01\n",
      "   --------------------------------------  385.0/385.0 MB 43.7 MB/s eta 0:00:01\n",
      "   --------------------------------------  385.0/385.0 MB 43.7 MB/s eta 0:00:01\n",
      "   --------------------------------------  385.0/385.0 MB 43.7 MB/s eta 0:00:01\n",
      "   --------------------------------------  385.0/385.0 MB 43.7 MB/s eta 0:00:01\n",
      "   --------------------------------------  385.0/385.0 MB 43.7 MB/s eta 0:00:01\n",
      "   --------------------------------------  385.0/385.0 MB 43.7 MB/s eta 0:00:01\n",
      "   --------------------------------------  385.0/385.0 MB 43.7 MB/s eta 0:00:01\n",
      "   --------------------------------------  385.0/385.0 MB 43.7 MB/s eta 0:00:01\n",
      "   --------------------------------------  385.0/385.0 MB 43.7 MB/s eta 0:00:01\n",
      "   --------------------------------------  385.0/385.0 MB 43.7 MB/s eta 0:00:01\n",
      "   ---------------------------------------- 385.0/385.0 MB 5.7 MB/s eta 0:00:00\n",
      "Downloading absl_py-2.1.0-py3-none-any.whl (133 kB)\n",
      "   ---------------------------------------- 0.0/133.7 kB ? eta -:--:--\n",
      "   ---------------------------------------- 133.7/133.7 kB 7.7 MB/s eta 0:00:00\n",
      "Downloading astunparse-1.6.3-py2.py3-none-any.whl (12 kB)\n",
      "Downloading flatbuffers-24.3.25-py2.py3-none-any.whl (26 kB)\n",
      "Downloading gast-0.6.0-py3-none-any.whl (21 kB)\n",
      "Downloading google_pasta-0.2.0-py3-none-any.whl (57 kB)\n",
      "   ---------------------------------------- 0.0/57.5 kB ? eta -:--:--\n",
      "   ---------------------------------------- 57.5/57.5 kB 3.1 MB/s eta 0:00:00\n",
      "Downloading grpcio-1.65.4-cp311-cp311-win_amd64.whl (4.1 MB)\n",
      "   ---------------------------------------- 0.0/4.1 MB ? eta -:--:--\n",
      "   --------------- ------------------------ 1.6/4.1 MB 33.1 MB/s eta 0:00:01\n",
      "   ---------------------------------------  4.1/4.1 MB 52.4 MB/s eta 0:00:01\n",
      "   ---------------------------------------- 4.1/4.1 MB 33.1 MB/s eta 0:00:00\n",
      "Downloading h5py-3.11.0-cp311-cp311-win_amd64.whl (3.0 MB)\n",
      "   ---------------------------------------- 0.0/3.0 MB ? eta -:--:--\n",
      "   ------------------------------ --------- 2.2/3.0 MB 48.5 MB/s eta 0:00:01\n",
      "   ---------------------------------------- 3.0/3.0 MB 31.9 MB/s eta 0:00:00\n",
      "Downloading keras-3.5.0-py3-none-any.whl (1.1 MB)\n",
      "   ---------------------------------------- 0.0/1.1 MB ? eta -:--:--\n",
      "   ---------------------------------------- 1.1/1.1 MB 24.7 MB/s eta 0:00:00\n",
      "Downloading libclang-18.1.1-py2.py3-none-win_amd64.whl (26.4 MB)\n",
      "   ---------------------------------------- 0.0/26.4 MB ? eta -:--:--\n",
      "   --- ------------------------------------ 2.1/26.4 MB 44.4 MB/s eta 0:00:01\n",
      "   ------ --------------------------------- 4.2/26.4 MB 44.9 MB/s eta 0:00:01\n",
      "   -------- ------------------------------- 5.6/26.4 MB 44.4 MB/s eta 0:00:01\n",
      "   ----------- ---------------------------- 7.6/26.4 MB 40.5 MB/s eta 0:00:01\n",
      "   --------------- ------------------------ 10.2/26.4 MB 46.5 MB/s eta 0:00:01\n",
      "   ------------------ --------------------- 12.0/26.4 MB 43.7 MB/s eta 0:00:01\n",
      "   --------------------- ------------------ 14.3/26.4 MB 43.5 MB/s eta 0:00:01\n",
      "   ------------------------ --------------- 16.2/26.4 MB 50.4 MB/s eta 0:00:01\n",
      "   -------------------------- ------------- 17.8/26.4 MB 43.5 MB/s eta 0:00:01\n",
      "   ------------------------------ --------- 20.3/26.4 MB 43.5 MB/s eta 0:00:01\n",
      "   --------------------------------- ------ 22.1/26.4 MB 46.7 MB/s eta 0:00:01\n",
      "   ------------------------------------ --- 24.4/26.4 MB 43.5 MB/s eta 0:00:01\n",
      "   ---------------------------------------  26.3/26.4 MB 43.7 MB/s eta 0:00:01\n",
      "   ---------------------------------------  26.4/26.4 MB 43.7 MB/s eta 0:00:01\n",
      "   ---------------------------------------  26.4/26.4 MB 43.7 MB/s eta 0:00:01\n",
      "   ---------------------------------------- 26.4/26.4 MB 29.7 MB/s eta 0:00:00\n",
      "Downloading ml_dtypes-0.4.0-cp311-cp311-win_amd64.whl (126 kB)\n",
      "   ---------------------------------------- 0.0/126.8 kB ? eta -:--:--\n",
      "   ---------------------------------------- 126.8/126.8 kB 3.8 MB/s eta 0:00:00\n",
      "Downloading opt_einsum-3.3.0-py3-none-any.whl (65 kB)\n",
      "   ---------------------------------------- 0.0/65.5 kB ? eta -:--:--\n",
      "   ---------------------------------------- 65.5/65.5 kB 3.5 MB/s eta 0:00:00\n",
      "Downloading tensorboard-2.17.1-py3-none-any.whl (5.5 MB)\n",
      "   ---------------------------------------- 0.0/5.5 MB ? eta -:--:--\n",
      "   ------------- -------------------------- 1.9/5.5 MB 61.8 MB/s eta 0:00:01\n",
      "   ---------------------------------------  5.5/5.5 MB 43.9 MB/s eta 0:00:01\n",
      "   ---------------------------------------- 5.5/5.5 MB 35.2 MB/s eta 0:00:00\n",
      "Downloading tensorflow_io_gcs_filesystem-0.31.0-cp311-cp311-win_amd64.whl (1.5 MB)\n",
      "   ---------------------------------------- 0.0/1.5 MB ? eta -:--:--\n",
      "   ---------------------------- ----------- 1.1/1.5 MB 70.3 MB/s eta 0:00:01\n",
      "   ---------------------------------------- 1.5/1.5 MB 18.9 MB/s eta 0:00:00\n",
      "Downloading termcolor-2.4.0-py3-none-any.whl (7.7 kB)\n",
      "Downloading tensorboard_data_server-0.7.2-py3-none-any.whl (2.4 kB)\n",
      "Downloading namex-0.0.8-py3-none-any.whl (5.8 kB)\n",
      "Downloading optree-0.12.1-cp311-cp311-win_amd64.whl (268 kB)\n",
      "   ---------------------------------------- 0.0/268.5 kB ? eta -:--:--\n",
      "   --------------------------------------- 268.5/268.5 kB 17.2 MB/s eta 0:00:00\n",
      "Installing collected packages: namex, libclang, flatbuffers, termcolor, tensorflow-io-gcs-filesystem, tensorboard-data-server, optree, opt-einsum, ml-dtypes, h5py, grpcio, google-pasta, gast, astunparse, absl-py, tensorboard, keras, tensorflow-intel, tensorflow\n",
      "  Attempting uninstall: h5py\n",
      "    Found existing installation: h5py 3.9.0\n",
      "    Uninstalling h5py-3.9.0:\n",
      "      Successfully uninstalled h5py-3.9.0\n",
      "Successfully installed absl-py-2.1.0 astunparse-1.6.3 flatbuffers-24.3.25 gast-0.6.0 google-pasta-0.2.0 grpcio-1.65.4 h5py-3.11.0 keras-3.5.0 libclang-18.1.1 ml-dtypes-0.4.0 namex-0.0.8 opt-einsum-3.3.0 optree-0.12.1 tensorboard-2.17.1 tensorboard-data-server-0.7.2 tensorflow-2.17.0 tensorflow-intel-2.17.0 tensorflow-io-gcs-filesystem-0.31.0 termcolor-2.4.0\n"
     ]
    }
   ],
   "source": [
    "!pip install tensorflow"
   ]
  },
  {
   "cell_type": "code",
   "execution_count": 4,
   "id": "4de03c9a",
   "metadata": {},
   "outputs": [],
   "source": [
    "import tensorflow as tf\n",
    "from tensorflow import keras"
   ]
  },
  {
   "cell_type": "code",
   "execution_count": 5,
   "id": "90bb4684",
   "metadata": {},
   "outputs": [],
   "source": [
    "import matplotlib.pyplot as plt\n",
    "%matplotlib inline\n",
    "import numpy as np \n",
    "import pandas as pd"
   ]
  },
  {
   "cell_type": "code",
   "execution_count": 7,
   "id": "0b624d86",
   "metadata": {},
   "outputs": [],
   "source": [
    "(X_train,y_train),(X_test,y_test) = keras.datasets.mnist.load_data()"
   ]
  },
  {
   "cell_type": "code",
   "execution_count": 8,
   "id": "1c5d7151",
   "metadata": {},
   "outputs": [
    {
     "data": {
      "text/plain": [
       "60000"
      ]
     },
     "execution_count": 8,
     "metadata": {},
     "output_type": "execute_result"
    }
   ],
   "source": [
    "len(X_train)"
   ]
  },
  {
   "cell_type": "code",
   "execution_count": 10,
   "id": "ccdc2cf7",
   "metadata": {},
   "outputs": [
    {
     "data": {
      "text/plain": [
       "10000"
      ]
     },
     "execution_count": 10,
     "metadata": {},
     "output_type": "execute_result"
    }
   ],
   "source": [
    "len(X_test)"
   ]
  },
  {
   "cell_type": "code",
   "execution_count": 16,
   "id": "520d61f5",
   "metadata": {},
   "outputs": [
    {
     "data": {
      "text/plain": [
       "(28, 28)"
      ]
     },
     "execution_count": 16,
     "metadata": {},
     "output_type": "execute_result"
    }
   ],
   "source": [
    "X_train[0].shape"
   ]
  },
  {
   "cell_type": "code",
   "execution_count": 17,
   "id": "26803f52",
   "metadata": {},
   "outputs": [
    {
     "data": {
      "text/plain": [
       "<matplotlib.image.AxesImage at 0x258b8c424d0>"
      ]
     },
     "execution_count": 17,
     "metadata": {},
     "output_type": "execute_result"
    },
    {
     "data": {
      "image/png": "[encoded data removed]",
      "text/plain": [
       "<Figure size 480x480 with 1 Axes>"
      ]
     },
     "metadata": {},
     "output_type": "display_data"
    }
   ],
   "source": [
    "plt.matshow(X_train[0])"
   ]
  },
  {
   "cell_type": "code",
   "execution_count": 25,
   "id": "c2f00a6f",
   "metadata": {},
   "outputs": [],
   "source": [
    "X_train = X_train/255\n",
    "X_test = X_test/255"
   ]
  },
  {
   "cell_type": "code",
   "execution_count": 26,
   "id": "7f004af9",
   "metadata": {},
   "outputs": [],
   "source": [
    "X_train_flat = X_train.reshape(len(X_train),28*28)\n",
    "X_test_flat = X_test.reshape(len(X_test),28*28)"
   ]
  },
  {
   "cell_type": "code",
   "execution_count": 27,
   "id": "e267296e",
   "metadata": {},
   "outputs": [
    {
     "data": {
      "text/plain": [
       "(60000, 784)"
      ]
     },
     "execution_count": 27,
     "metadata": {},
     "output_type": "execute_result"
    }
   ],
   "source": [
    "X_train_flat.shape"
   ]
  },
  {
   "cell_type": "code",
   "execution_count": 28,
   "id": "1740e216",
   "metadata": {},
   "outputs": [
    {
     "data": {
      "text/plain": [
       "array([0.        , 0.        , 0.        , 0.        , 0.        ,\n",
       "       0.        , 0.        , 0.        , 0.        , 0.        ,\n",
       "       0.        , 0.        , 0.        , 0.        , 0.        ,\n",
       "       0.        , 0.        , 0.        , 0.        , 0.        ,\n",
       "       0.        , 0.        , 0.        , 0.        , 0.        ,\n",
       "       0.        , 0.        , 0.        , 0.        , 0.        ,\n",
       "       0.        , 0.        , 0.        , 0.        , 0.        ,\n",
       "       0.        , 0.        , 0.        , 0.        , 0.        ,\n",
       "       0.        , 0.        , 0.        , 0.        , 0.        ,\n",
       "       0.        , 0.        , 0.        , 0.        , 0.        ,\n",
       "       0.        , 0.        , 0.        , 0.        , 0.        ,\n",
       "       0.        , 0.        , 0.        , 0.        , 0.        ,\n",
       "       0.        , 0.        , 0.        , 0.        , 0.        ,\n",
       "       0.        , 0.        , 0.        , 0.        , 0.        ,\n",
       "       0.        , 0.        , 0.        , 0.        , 0.        ,\n",
       "       0.        , 0.        , 0.        , 0.        , 0.        ,\n",
       "       0.        , 0.        , 0.        , 0.        , 0.        ,\n",
       "       0.        , 0.        , 0.        , 0.        , 0.        ,\n",
       "       0.        , 0.        , 0.        , 0.        , 0.        ,\n",
       "       0.        , 0.        , 0.        , 0.        , 0.        ,\n",
       "       0.        , 0.        , 0.        , 0.        , 0.        ,\n",
       "       0.        , 0.        , 0.        , 0.        , 0.        ,\n",
       "       0.        , 0.        , 0.        , 0.        , 0.        ,\n",
       "       0.        , 0.        , 0.        , 0.        , 0.        ,\n",
       "       0.        , 0.        , 0.        , 0.        , 0.        ,\n",
       "       0.        , 0.        , 0.        , 0.        , 0.        ,\n",
       "       0.        , 0.        , 0.        , 0.        , 0.        ,\n",
       "       0.        , 0.        , 0.        , 0.        , 0.        ,\n",
       "       0.        , 0.        , 0.        , 0.        , 0.        ,\n",
       "       0.        , 0.        , 0.        , 0.        , 0.        ,\n",
       "       0.        , 0.        , 0.01176471, 0.07058824, 0.07058824,\n",
       "       0.07058824, 0.49411765, 0.53333333, 0.68627451, 0.10196078,\n",
       "       0.65098039, 1.        , 0.96862745, 0.49803922, 0.        ,\n",
       "       0.        , 0.        , 0.        , 0.        , 0.        ,\n",
       "       0.        , 0.        , 0.        , 0.        , 0.        ,\n",
       "       0.        , 0.11764706, 0.14117647, 0.36862745, 0.60392157,\n",
       "       0.66666667, 0.99215686, 0.99215686, 0.99215686, 0.99215686,\n",
       "       0.99215686, 0.88235294, 0.6745098 , 0.99215686, 0.94901961,\n",
       "       0.76470588, 0.25098039, 0.        , 0.        , 0.        ,\n",
       "       0.        , 0.        , 0.        , 0.        , 0.        ,\n",
       "       0.        , 0.        , 0.        , 0.19215686, 0.93333333,\n",
       "       0.99215686, 0.99215686, 0.99215686, 0.99215686, 0.99215686,\n",
       "       0.99215686, 0.99215686, 0.99215686, 0.98431373, 0.36470588,\n",
       "       0.32156863, 0.32156863, 0.21960784, 0.15294118, 0.        ,\n",
       "       0.        , 0.        , 0.        , 0.        , 0.        ,\n",
       "       0.        , 0.        , 0.        , 0.        , 0.        ,\n",
       "       0.        , 0.07058824, 0.85882353, 0.99215686, 0.99215686,\n",
       "       0.99215686, 0.99215686, 0.99215686, 0.77647059, 0.71372549,\n",
       "       0.96862745, 0.94509804, 0.        , 0.        , 0.        ,\n",
       "       0.        , 0.        , 0.        , 0.        , 0.        ,\n",
       "       0.        , 0.        , 0.        , 0.        , 0.        ,\n",
       "       0.        , 0.        , 0.        , 0.        , 0.        ,\n",
       "       0.31372549, 0.61176471, 0.41960784, 0.99215686, 0.99215686,\n",
       "       0.80392157, 0.04313725, 0.        , 0.16862745, 0.60392157,\n",
       "       0.        , 0.        , 0.        , 0.        , 0.        ,\n",
       "       0.        , 0.        , 0.        , 0.        , 0.        ,\n",
       "       0.        , 0.        , 0.        , 0.        , 0.        ,\n",
       "       0.        , 0.        , 0.        , 0.        , 0.05490196,\n",
       "       0.00392157, 0.60392157, 0.99215686, 0.35294118, 0.        ,\n",
       "       0.        , 0.        , 0.        , 0.        , 0.        ,\n",
       "       0.        , 0.        , 0.        , 0.        , 0.        ,\n",
       "       0.        , 0.        , 0.        , 0.        , 0.        ,\n",
       "       0.        , 0.        , 0.        , 0.        , 0.        ,\n",
       "       0.        , 0.        , 0.        , 0.        , 0.54509804,\n",
       "       0.99215686, 0.74509804, 0.00784314, 0.        , 0.        ,\n",
       "       0.        , 0.        , 0.        , 0.        , 0.        ,\n",
       "       0.        , 0.        , 0.        , 0.        , 0.        ,\n",
       "       0.        , 0.        , 0.        , 0.        , 0.        ,\n",
       "       0.        , 0.        , 0.        , 0.        , 0.        ,\n",
       "       0.        , 0.        , 0.04313725, 0.74509804, 0.99215686,\n",
       "       0.2745098 , 0.        , 0.        , 0.        , 0.        ,\n",
       "       0.        , 0.        , 0.        , 0.        , 0.        ,\n",
       "       0.        , 0.        , 0.        , 0.        , 0.        ,\n",
       "       0.        , 0.        , 0.        , 0.        , 0.        ,\n",
       "       0.        , 0.        , 0.        , 0.        , 0.        ,\n",
       "       0.        , 0.1372549 , 0.94509804, 0.88235294, 0.62745098,\n",
       "       0.42352941, 0.00392157, 0.        , 0.        , 0.        ,\n",
       "       0.        , 0.        , 0.        , 0.        , 0.        ,\n",
       "       0.        , 0.        , 0.        , 0.        , 0.        ,\n",
       "       0.        , 0.        , 0.        , 0.        , 0.        ,\n",
       "       0.        , 0.        , 0.        , 0.        , 0.        ,\n",
       "       0.31764706, 0.94117647, 0.99215686, 0.99215686, 0.46666667,\n",
       "       0.09803922, 0.        , 0.        , 0.        , 0.        ,\n",
       "       0.        , 0.        , 0.        , 0.        , 0.        ,\n",
       "       0.        , 0.        , 0.        , 0.        , 0.        ,\n",
       "       0.        , 0.        , 0.        , 0.        , 0.        ,\n",
       "       0.        , 0.        , 0.        , 0.        , 0.17647059,\n",
       "       0.72941176, 0.99215686, 0.99215686, 0.58823529, 0.10588235,\n",
       "       0.        , 0.        , 0.        , 0.        , 0.        ,\n",
       "       0.        , 0.        , 0.        , 0.        , 0.        ,\n",
       "       0.        , 0.        , 0.        , 0.        , 0.        ,\n",
       "       0.        , 0.        , 0.        , 0.        , 0.        ,\n",
       "       0.        , 0.        , 0.        , 0.0627451 , 0.36470588,\n",
       "       0.98823529, 0.99215686, 0.73333333, 0.        , 0.        ,\n",
       "       0.        , 0.        , 0.        , 0.        , 0.        ,\n",
       "       0.        , 0.        , 0.        , 0.        , 0.        ,\n",
       "       0.        , 0.        , 0.        , 0.        , 0.        ,\n",
       "       0.        , 0.        , 0.        , 0.        , 0.        ,\n",
       "       0.        , 0.        , 0.        , 0.97647059, 0.99215686,\n",
       "       0.97647059, 0.25098039, 0.        , 0.        , 0.        ,\n",
       "       0.        , 0.        , 0.        , 0.        , 0.        ,\n",
       "       0.        , 0.        , 0.        , 0.        , 0.        ,\n",
       "       0.        , 0.        , 0.        , 0.        , 0.        ,\n",
       "       0.        , 0.        , 0.        , 0.18039216, 0.50980392,\n",
       "       0.71764706, 0.99215686, 0.99215686, 0.81176471, 0.00784314,\n",
       "       0.        , 0.        , 0.        , 0.        , 0.        ,\n",
       "       0.        , 0.        , 0.        , 0.        , 0.        ,\n",
       "       0.        , 0.        , 0.        , 0.        , 0.        ,\n",
       "       0.        , 0.        , 0.        , 0.        , 0.15294118,\n",
       "       0.58039216, 0.89803922, 0.99215686, 0.99215686, 0.99215686,\n",
       "       0.98039216, 0.71372549, 0.        , 0.        , 0.        ,\n",
       "       0.        , 0.        , 0.        , 0.        , 0.        ,\n",
       "       0.        , 0.        , 0.        , 0.        , 0.        ,\n",
       "       0.        , 0.        , 0.        , 0.        , 0.        ,\n",
       "       0.09411765, 0.44705882, 0.86666667, 0.99215686, 0.99215686,\n",
       "       0.99215686, 0.99215686, 0.78823529, 0.30588235, 0.        ,\n",
       "       0.        , 0.        , 0.        , 0.        , 0.        ,\n",
       "       0.        , 0.        , 0.        , 0.        , 0.        ,\n",
       "       0.        , 0.        , 0.        , 0.        , 0.        ,\n",
       "       0.        , 0.09019608, 0.25882353, 0.83529412, 0.99215686,\n",
       "       0.99215686, 0.99215686, 0.99215686, 0.77647059, 0.31764706,\n",
       "       0.00784314, 0.        , 0.        , 0.        , 0.        ,\n",
       "       0.        , 0.        , 0.        , 0.        , 0.        ,\n",
       "       0.        , 0.        , 0.        , 0.        , 0.        ,\n",
       "       0.        , 0.        , 0.07058824, 0.67058824, 0.85882353,\n",
       "       0.99215686, 0.99215686, 0.99215686, 0.99215686, 0.76470588,\n",
       "       0.31372549, 0.03529412, 0.        , 0.        , 0.        ,\n",
       "       0.        , 0.        , 0.        , 0.        , 0.        ,\n",
       "       0.        , 0.        , 0.        , 0.        , 0.        ,\n",
       "       0.        , 0.        , 0.        , 0.21568627, 0.6745098 ,\n",
       "       0.88627451, 0.99215686, 0.99215686, 0.99215686, 0.99215686,\n",
       "       0.95686275, 0.52156863, 0.04313725, 0.        , 0.        ,\n",
       "       0.        , 0.        , 0.        , 0.        , 0.        ,\n",
       "       0.        , 0.        , 0.        , 0.        , 0.        ,\n",
       "       0.        , 0.        , 0.        , 0.        , 0.        ,\n",
       "       0.        , 0.53333333, 0.99215686, 0.99215686, 0.99215686,\n",
       "       0.83137255, 0.52941176, 0.51764706, 0.0627451 , 0.        ,\n",
       "       0.        , 0.        , 0.        , 0.        , 0.        ,\n",
       "       0.        , 0.        , 0.        , 0.        , 0.        ,\n",
       "       0.        , 0.        , 0.        , 0.        , 0.        ,\n",
       "       0.        , 0.        , 0.        , 0.        , 0.        ,\n",
       "       0.        , 0.        , 0.        , 0.        , 0.        ,\n",
       "       0.        , 0.        , 0.        , 0.        , 0.        ,\n",
       "       0.        , 0.        , 0.        , 0.        , 0.        ,\n",
       "       0.        , 0.        , 0.        , 0.        , 0.        ,\n",
       "       0.        , 0.        , 0.        , 0.        , 0.        ,\n",
       "       0.        , 0.        , 0.        , 0.        , 0.        ,\n",
       "       0.        , 0.        , 0.        , 0.        , 0.        ,\n",
       "       0.        , 0.        , 0.        , 0.        , 0.        ,\n",
       "       0.        , 0.        , 0.        , 0.        , 0.        ,\n",
       "       0.        , 0.        , 0.        , 0.        , 0.        ,\n",
       "       0.        , 0.        , 0.        , 0.        , 0.        ,\n",
       "       0.        , 0.        , 0.        , 0.        , 0.        ,\n",
       "       0.        , 0.        , 0.        , 0.        , 0.        ,\n",
       "       0.        , 0.        , 0.        , 0.        , 0.        ,\n",
       "       0.        , 0.        , 0.        , 0.        , 0.        ,\n",
       "       0.        , 0.        , 0.        , 0.        ])"
      ]
     },
     "execution_count": 28,
     "metadata": {},
     "output_type": "execute_result"
    }
   ],
   "source": [
    "X_train_flat[0]"
   ]
  },
  {
   "cell_type": "code",
   "execution_count": 22,
   "id": "b82407ed",
   "metadata": {},
   "outputs": [],
   "source": [
    "## Creating a neural network |"
   ]
  },
  {
   "cell_type": "code",
   "execution_count": 29,
   "id": "505b6936",
   "metadata": {},
   "outputs": [
    {
     "name": "stderr",
     "output_type": "stream",
     "text": [
      "C:\\Users\\Sri\\anaconda3\\Lib\\site-packages\\keras\\src\\layers\\core\\dense.py:87: UserWarning: Do not pass an `input_shape`/`input_dim` argument to a layer. When using Sequential models, prefer using an `Input(shape)` object as the first layer in the model instead.\n",
      "  super().__init__(activity_regularizer=activity_regularizer, **kwargs)\n"
     ]
    },
    {
     "name": "stdout",
     "output_type": "stream",
     "text": [
      "Epoch 1/5\n",
      "\u001b[1m1875/1875\u001b[0m \u001b[32m━━━━━━━━━━━━━━━━━━━━\u001b[0m\u001b[37m\u001b[0m \u001b[1m6s\u001b[0m 2ms/step - accuracy: 0.8071 - loss: 0.7353\n",
      "Epoch 2/5\n",
      "\u001b[1m1875/1875\u001b[0m \u001b[32m━━━━━━━━━━━━━━━━━━━━\u001b[0m\u001b[37m\u001b[0m \u001b[1m5s\u001b[0m 2ms/step - accuracy: 0.9156 - loss: 0.3048\n",
      "Epoch 3/5\n",
      "\u001b[1m1875/1875\u001b[0m \u001b[32m━━━━━━━━━━━━━━━━━━━━\u001b[0m\u001b[37m\u001b[0m \u001b[1m5s\u001b[0m 2ms/step - accuracy: 0.9182 - loss: 0.2927\n",
      "Epoch 4/5\n",
      "\u001b[1m1875/1875\u001b[0m \u001b[32m━━━━━━━━━━━━━━━━━━━━\u001b[0m\u001b[37m\u001b[0m \u001b[1m5s\u001b[0m 3ms/step - accuracy: 0.9218 - loss: 0.2762\n",
      "Epoch 5/5\n",
      "\u001b[1m1875/1875\u001b[0m \u001b[32m━━━━━━━━━━━━━━━━━━━━\u001b[0m\u001b[37m\u001b[0m \u001b[1m6s\u001b[0m 3ms/step - accuracy: 0.9259 - loss: 0.2671\n"
     ]
    },
    {
     "data": {
      "text/plain": [
       "<keras.src.callbacks.history.History at 0x258bfc72550>"
      ]
     },
     "execution_count": 29,
     "metadata": {},
     "output_type": "execute_result"
    }
   ],
   "source": [
    "model = keras.Sequential([keras.layers.Dense(10,input_shape=(784,),activation = 'sigmoid')])\n",
    "model.compile(optimizer='adam',loss='sparse_categorical_crossentropy',metrics=['accuracy'])\n",
    "model.fit(X_train_flat,y_train,epochs=5)"
   ]
  },
  {
   "cell_type": "code",
   "execution_count": 24,
   "id": "38ab8a1a",
   "metadata": {},
   "outputs": [],
   "source": [
    "## Now scaling the above images b diving it by 255"
   ]
  },
  {
   "cell_type": "code",
   "execution_count": 30,
   "id": "70ae8560",
   "metadata": {},
   "outputs": [
    {
     "name": "stdout",
     "output_type": "stream",
     "text": [
      "\u001b[1m313/313\u001b[0m \u001b[32m━━━━━━━━━━━━━━━━━━━━\u001b[0m\u001b[37m\u001b[0m \u001b[1m1s\u001b[0m 2ms/step - accuracy: 0.9137 - loss: 0.3069\n"
     ]
    },
    {
     "data": {
      "text/plain": [
       "[0.26804783940315247, 0.925599992275238]"
      ]
     },
     "execution_count": 30,
     "metadata": {},
     "output_type": "execute_result"
    }
   ],
   "source": [
    "model.evaluate(X_test_flat,y_test)"
   ]
  },
  {
   "cell_type": "code",
   "execution_count": 31,
   "id": "4eab410e",
   "metadata": {},
   "outputs": [
    {
     "name": "stdout",
     "output_type": "stream",
     "text": [
      "\u001b[1m313/313\u001b[0m \u001b[32m━━━━━━━━━━━━━━━━━━━━\u001b[0m\u001b[37m\u001b[0m \u001b[1m1s\u001b[0m 2ms/step\n"
     ]
    }
   ],
   "source": [
    "y_pred = model.predict(X_test_flat)"
   ]
  },
  {
   "cell_type": "code",
   "execution_count": 35,
   "id": "2d98786f",
   "metadata": {},
   "outputs": [
    {
     "data": {
      "text/plain": [
       "array([3.2561988e-02, 4.9125765e-07, 8.5016191e-02, 9.6190435e-01,\n",
       "       2.5632486e-03, 1.4631951e-01, 2.5634083e-06, 9.9985397e-01,\n",
       "       7.9260446e-02, 6.7569333e-01], dtype=float32)"
      ]
     },
     "execution_count": 35,
     "metadata": {},
     "output_type": "execute_result"
    }
   ],
   "source": [
    "y_pred[0]"
   ]
  },
  {
   "cell_type": "code",
   "execution_count": 34,
   "id": "c10df9fb",
   "metadata": {},
   "outputs": [
    {
     "data": {
      "text/plain": [
       "7"
      ]
     },
     "execution_count": 34,
     "metadata": {},
     "output_type": "execute_result"
    }
   ],
   "source": [
    "## Returns index where value is max\n",
    "np.argmax(y_pred[0])"
   ]
  },
  {
   "cell_type": "code",
   "execution_count": 38,
   "id": "ae4fa0b8",
   "metadata": {},
   "outputs": [
    {
     "data": {
      "text/plain": [
       "<matplotlib.image.AxesImage at 0x258c15656d0>"
      ]
     },
     "execution_count": 38,
     "metadata": {},
     "output_type": "execute_result"
    },
    {
     "data": {
      "image/png": "[encoded data removed]",
      "text/plain": [
       "<Figure size 480x480 with 1 Axes>"
      ]
     },
     "metadata": {},
     "output_type": "display_data"
    }
   ],
   "source": [
    "plt.matshow(X_test[0])"
   ]
  },
  {
   "cell_type": "code",
   "execution_count": 40,
   "id": "01296e64",
   "metadata": {},
   "outputs": [],
   "source": [
    "## Building confusion matrix "
   ]
  },
  {
   "cell_type": "code",
   "execution_count": 41,
   "id": "47670a92",
   "metadata": {},
   "outputs": [],
   "source": [
    "y_pred1 = [np.argmax(i) for i in y_pred]"
   ]
  },
  {
   "cell_type": "code",
   "execution_count": 43,
   "id": "ec338221",
   "metadata": {},
   "outputs": [],
   "source": [
    "cm=tf.math.confusion_matrix(labels=y_test,predictions=y_pred1)"
   ]
  },
  {
   "cell_type": "code",
   "execution_count": 1,
   "id": "e16aaa5e",
   "metadata": {},
   "outputs": [],
   "source": [
    "import seaborn as sn "
   ]
  },
  {
   "cell_type": "code",
   "execution_count": 46,
   "id": "ed290e7e",
   "metadata": {},
   "outputs": [
    {
     "data": {
      "text/plain": [
       "<Axes: >"
      ]
     },
     "execution_count": 46,
     "metadata": {},
     "output_type": "execute_result"
    },
    {
     "data": {
      "image/png": "[encoded data removed]",
      "text/plain": [
       "<Figure size 1000x700 with 2 Axes>"
      ]
     },
     "metadata": {},
     "output_type": "display_data"
    }
   ],
   "source": [
    "plt.figure(figsize=(10,7))\n",
    "sn.heatmap(cm,annot=True,fmt='d')\n"
   ]
  },
  {
   "cell_type": "code",
   "execution_count": 47,
   "id": "843ff8b4",
   "metadata": {},
   "outputs": [],
   "source": [
    "## Adding hidden layers to neural network "
   ]
  },
  {
   "cell_type": "code",
   "execution_count": 48,
   "id": "b6c3ad76",
   "metadata": {},
   "outputs": [
    {
     "name": "stderr",
     "output_type": "stream",
     "text": [
      "C:\\Users\\Sri\\anaconda3\\Lib\\site-packages\\keras\\src\\layers\\core\\dense.py:87: UserWarning: Do not pass an `input_shape`/`input_dim` argument to a layer. When using Sequential models, prefer using an `Input(shape)` object as the first layer in the model instead.\n",
      "  super().__init__(activity_regularizer=activity_regularizer, **kwargs)\n"
     ]
    },
    {
     "name": "stdout",
     "output_type": "stream",
     "text": [
      "Epoch 1/5\n",
      "\u001b[1m1875/1875\u001b[0m \u001b[32m━━━━━━━━━━━━━━━━━━━━\u001b[0m\u001b[37m\u001b[0m \u001b[1m9s\u001b[0m 4ms/step - accuracy: 0.8739 - loss: 0.4480\n",
      "Epoch 2/5\n",
      "\u001b[1m1875/1875\u001b[0m \u001b[32m━━━━━━━━━━━━━━━━━━━━\u001b[0m\u001b[37m\u001b[0m \u001b[1m8s\u001b[0m 4ms/step - accuracy: 0.9620 - loss: 0.1308\n",
      "Epoch 3/5\n",
      "\u001b[1m1875/1875\u001b[0m \u001b[32m━━━━━━━━━━━━━━━━━━━━\u001b[0m\u001b[37m\u001b[0m \u001b[1m8s\u001b[0m 4ms/step - accuracy: 0.9738 - loss: 0.0877\n",
      "Epoch 4/5\n",
      "\u001b[1m1875/1875\u001b[0m \u001b[32m━━━━━━━━━━━━━━━━━━━━\u001b[0m\u001b[37m\u001b[0m \u001b[1m7s\u001b[0m 4ms/step - accuracy: 0.9819 - loss: 0.0632\n",
      "Epoch 5/5\n",
      "\u001b[1m1875/1875\u001b[0m \u001b[32m━━━━━━━━━━━━━━━━━━━━\u001b[0m\u001b[37m\u001b[0m \u001b[1m7s\u001b[0m 4ms/step - accuracy: 0.9862 - loss: 0.0472\n"
     ]
    },
    {
     "data": {
      "text/plain": [
       "<keras.src.callbacks.history.History at 0x258e0762090>"
      ]
     },
     "execution_count": 48,
     "metadata": {},
     "output_type": "execute_result"
    }
   ],
   "source": [
    "model = keras.Sequential([keras.layers.Dense(100,input_shape=(784,),activation = 'relu'),keras.layers.Dense(10,activation = 'sigmoid')])\n",
    "model.compile(optimizer='adam',loss='sparse_categorical_crossentropy',metrics=['accuracy'])\n",
    "model.fit(X_train_flat,y_train,epochs=5)"
   ]
  },
  {
   "cell_type": "code",
   "execution_count": 49,
   "id": "b807c773",
   "metadata": {},
   "outputs": [],
   "source": [
    "## We can flatten the layer directly without reshaping "
   ]
  },
  {
   "cell_type": "code",
   "execution_count": 51,
   "id": "639c4230",
   "metadata": {},
   "outputs": [
    {
     "name": "stdout",
     "output_type": "stream",
     "text": [
      "Epoch 1/5\n",
      "\u001b[1m1875/1875\u001b[0m \u001b[32m━━━━━━━━━━━━━━━━━━━━\u001b[0m\u001b[37m\u001b[0m \u001b[1m9s\u001b[0m 4ms/step - accuracy: 0.8738 - loss: 0.4442\n",
      "Epoch 2/5\n",
      "\u001b[1m1875/1875\u001b[0m \u001b[32m━━━━━━━━━━━━━━━━━━━━\u001b[0m\u001b[37m\u001b[0m \u001b[1m8s\u001b[0m 4ms/step - accuracy: 0.9615 - loss: 0.1343\n",
      "Epoch 3/5\n",
      "\u001b[1m1875/1875\u001b[0m \u001b[32m━━━━━━━━━━━━━━━━━━━━\u001b[0m\u001b[37m\u001b[0m \u001b[1m8s\u001b[0m 4ms/step - accuracy: 0.9749 - loss: 0.0853\n",
      "Epoch 4/5\n",
      "\u001b[1m1875/1875\u001b[0m \u001b[32m━━━━━━━━━━━━━━━━━━━━\u001b[0m\u001b[37m\u001b[0m \u001b[1m8s\u001b[0m 4ms/step - accuracy: 0.9805 - loss: 0.0643\n",
      "Epoch 5/5\n",
      "\u001b[1m1875/1875\u001b[0m \u001b[32m━━━━━━━━━━━━━━━━━━━━\u001b[0m\u001b[37m\u001b[0m \u001b[1m8s\u001b[0m 4ms/step - accuracy: 0.9839 - loss: 0.0511\n"
     ]
    },
    {
     "data": {
      "text/plain": [
       "<keras.src.callbacks.history.History at 0x258e07c5550>"
      ]
     },
     "execution_count": 51,
     "metadata": {},
     "output_type": "execute_result"
    }
   ],
   "source": [
    "model = keras.Sequential([keras.layers.Flatten(input_shape=(28,28)),keras.layers.Dense(100,activation = 'relu'),keras.layers.Dense(10,activation = 'sigmoid')])\n",
    "model.compile(optimizer='adam',loss='sparse_categorical_crossentropy',metrics=['accuracy'])\n",
    "model.fit(X_train,y_train,epochs=5)"
   ]
  },
  {
   "cell_type": "code",
   "execution_count": null,
   "id": "d73318f5",
   "metadata": {},
   "outputs": [],
   "source": []
  },
  {
   "cell_type": "code",
   "execution_count": null,
   "id": "58e61278",
   "metadata": {},
   "outputs": [],
   "source": []
  },
  {
   "cell_type": "code",
   "execution_count": null,
   "id": "4f33c063",
   "metadata": {},
   "outputs": [],
   "source": []
  },
  {
   "cell_type": "code",
   "execution_count": null,
   "id": "4f665781",
   "metadata": {},
   "outputs": [],
   "source": []
  },
  {
   "cell_type": "code",
   "execution_count": null,
   "id": "61faa696",
   "metadata": {},
   "outputs": [],
   "source": []
  },
  {
   "cell_type": "code",
   "execution_count": null,
   "id": "5952e29c",
   "metadata": {},
   "outputs": [],
   "source": []
  },
  {
   "cell_type": "code",
   "execution_count": null,
   "id": "aed2744c",
   "metadata": {},
   "outputs": [],
   "source": []
  },
  {
   "cell_type": "code",
   "execution_count": null,
   "id": "1f7abef1",
   "metadata": {},
   "outputs": [],
   "source": []
  },
  {
   "cell_type": "code",
   "execution_count": null,
   "id": "5b5b0378",
   "metadata": {},
   "outputs": [],
   "source": []
  },
  {
   "cell_type": "code",
   "execution_count": null,
   "id": "613b0da7",
   "metadata": {},
   "outputs": [],
   "source": []
  },
  {
   "cell_type": "code",
   "execution_count": null,
   "id": "60a3c046",
   "metadata": {},
   "outputs": [],
   "source": []
  },
  {
   "cell_type": "code",
   "execution_count": null,
   "id": "05c66749",
   "metadata": {},
   "outputs": [],
   "source": []
  },
  {
   "cell_type": "code",
   "execution_count": null,
   "id": "735f5fa2",
   "metadata": {},
   "outputs": [],
   "source": []
  },
  {
   "cell_type": "code",
   "execution_count": null,
   "id": "738cb6ca",
   "metadata": {},
   "outputs": [],
   "source": []
  },
  {
   "cell_type": "code",
   "execution_count": null,
   "id": "2957bf5c",
   "metadata": {},
   "outputs": [],
   "source": []
  },
  {
   "cell_type": "code",
   "execution_count": null,
   "id": "a1aa880a",
   "metadata": {},
   "outputs": [],
   "source": []
  },
  {
   "cell_type": "code",
   "execution_count": null,
   "id": "0e082891",
   "metadata": {},
   "outputs": [],
   "source": []
  },
  {
   "cell_type": "code",
   "execution_count": null,
   "id": "fb8b2571",
   "metadata": {},
   "outputs": [],
   "source": []
  },
  {
   "cell_type": "code",
   "execution_count": null,
   "id": "9adf5622",
   "metadata": {},
   "outputs": [],
   "source": []
  },
  {
   "cell_type": "code",
   "execution_count": null,
   "id": "adb1aa5c",
   "metadata": {},
   "outputs": [],
   "source": []
  },
  {
   "cell_type": "code",
   "execution_count": null,
   "id": "7cfc0675",
   "metadata": {},
   "outputs": [],
   "source": []
  },
  {
   "cell_type": "code",
   "execution_count": null,
   "id": "752a7faa",
   "metadata": {},
   "outputs": [],
   "source": []
  },
  {
   "cell_type": "code",
   "execution_count": null,
   "id": "a0e1083b",
   "metadata": {},
   "outputs": [],
   "source": []
  },
  {
   "cell_type": "code",
   "execution_count": null,
   "id": "c6c0cb8a",
   "metadata": {},
   "outputs": [],
   "source": []
  },
  {
   "cell_type": "code",
   "execution_count": null,
   "id": "c1fc2732",
   "metadata": {},
   "outputs": [],
   "source": []
  },
  {
   "cell_type": "code",
   "execution_count": null,
   "id": "a1a019d9",
   "metadata": {},
   "outputs": [],
   "source": []
  },
  {
   "cell_type": "code",
   "execution_count": null,
   "id": "b4f0ace3",
   "metadata": {},
   "outputs": [],
   "source": []
  },
  {
   "cell_type": "code",
   "execution_count": null,
   "id": "e2590fa1",
   "metadata": {},
   "outputs": [],
   "source": []
  },
  {
   "cell_type": "code",
   "execution_count": null,
   "id": "13ff706f",
   "metadata": {},
   "outputs": [],
   "source": []
  },
  {
   "cell_type": "code",
   "execution_count": null,
   "id": "586c0f6e",
   "metadata": {},
   "outputs": [],
   "source": []
  },
  {
   "cell_type": "code",
   "execution_count": null,
   "id": "f5048372",
   "metadata": {},
   "outputs": [],
   "source": []
  },
  {
   "cell_type": "code",
   "execution_count": null,
   "id": "038f8d06",
   "metadata": {},
   "outputs": [],
   "source": []
  },
  {
   "cell_type": "code",
   "execution_count": null,
   "id": "32ad52cb",
   "metadata": {},
   "outputs": [],
   "source": []
  },
  {
   "cell_type": "code",
   "execution_count": null,
   "id": "d5bb59c0",
   "metadata": {},
   "outputs": [],
   "source": []
  },
  {
   "cell_type": "code",
   "execution_count": null,
   "id": "7eb266e4",
   "metadata": {},
   "outputs": [],
   "source": []
  },
  {
   "cell_type": "code",
   "execution_count": null,
   "id": "71dbf806",
   "metadata": {},
   "outputs": [],
   "source": []
  },
  {
   "cell_type": "code",
   "execution_count": null,
   "id": "d5b1459d",
   "metadata": {},
   "outputs": [],
   "source": []
  },
  {
   "cell_type": "code",
   "execution_count": null,
   "id": "cd353b56",
   "metadata": {},
   "outputs": [],
   "source": []
  },
  {
   "cell_type": "code",
   "execution_count": null,
   "id": "39329b62",
   "metadata": {},
   "outputs": [],
   "source": []
  },
  {
   "cell_type": "code",
   "execution_count": null,
   "id": "5d10d3d2",
   "metadata": {},
   "outputs": [],
   "source": []
  },
  {
   "cell_type": "code",
   "execution_count": null,
   "id": "fa1ab66e",
   "metadata": {},
   "outputs": [],
   "source": []
  },
  {
   "cell_type": "code",
   "execution_count": null,
   "id": "1e48237d",
   "metadata": {},
   "outputs": [],
   "source": []
  }
 ],
 "metadata": {
  "kernelspec": {
   "display_name": "Python 3 (ipykernel)",
   "language": "python",
   "name": "python3"
  },
  "language_info": {
   "codemirror_mode": {
    "name": "ipython",
    "version": 3
   },
   "file_extension": ".py",
   "mimetype": "text/x-python",
   "name": "python",
   "nbconvert_exporter": "python",
   "pygments_lexer": "ipython3",
   "version": "3.11.7"
  }
 },
 "nbformat": 4,
 "nbformat_minor": 5
}
